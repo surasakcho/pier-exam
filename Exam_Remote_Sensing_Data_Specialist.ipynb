{
  "nbformat": 4,
  "nbformat_minor": 0,
  "metadata": {
    "colab": {
      "name": "Exam-Remote-Sensing-Data-Specialist.ipynb",
      "provenance": [],
      "collapsed_sections": [],
      "toc_visible": true,
      "authorship_tag": "ABX9TyN+Qf/V8oDdQTjHXKVDgFHW",
      "include_colab_link": true
    },
    "kernelspec": {
      "name": "python3",
      "display_name": "Python 3"
    }
  },
  "cells": [
    {
      "cell_type": "markdown",
      "metadata": {
        "id": "view-in-github",
        "colab_type": "text"
      },
      "source": [
        "<a href=\"https://colab.research.google.com/github/surasakcho/pier-exam/blob/master/Exam_Remote_Sensing_Data_Specialist.ipynb\" target=\"_parent\"><img src=\"https://colab.research.google.com/assets/colab-badge.svg\" alt=\"Open In Colab\"/></a>"
      ]
    },
    {
      "cell_type": "markdown",
      "metadata": {
        "id": "JfGMqusbUgIS",
        "colab_type": "text"
      },
      "source": [
        "# แบบทดสอบความพร้อมในการปฎิบัติงานในตำแหน่ง Remote Sensing Data Specialist\n"
      ]
    },
    {
      "cell_type": "markdown",
      "metadata": {
        "id": "V7aMWXk_E9G0",
        "colab_type": "text"
      },
      "source": [
        "## คำอธิบาย\n",
        "- แบบทดสอบนี้มีคำถามทั้งหมด 8 ข้อ ผู้สมัครจะต้องเขียน Code Python เพื่อทำงานตามความต้องการที่กำหนดไว้ในแต่ละข้อ\n",
        "- แบบทดสอบนี้เป็นการจำลองสถานการณ์ที่ใกล้เคียงกับสภาวะการทำงานจริง ด้วยเหตุนี้ขอให้ผู้สมัครเขียน Code บน **Google Colab** \n",
        "- ขอให้ผู้สมัครสร้างสำเนา Notebook นี้ไปยัง Google Drive ของตนเอง และตั้งชื่อใหม่โดยให้ **ระบุชื่อตัวเองต่อท้ายในชื่อ File**\n",
        "- สำหรับการส่งคำตอบ ขอให้ผู้สมัคร **run code ในแต่ละ Cell** เพื่อให้แสดงผลลัพธ์ของ Code และให้ผู้สมัครส่ง Notebook คำตอบมาในรูปแบบ file **.ipynb พร้อมทั้ง share Google Drive link** สำหรับ Notebook คำตอบ มาที่ surasakc@bot.or.th\n",
        "- กำหนดเวลาส่ง **วันพุธที่ 9 กันยายน 2563 เวลา 12.00 น. (เที่ยงตรง)** ผู้สมัครที่ส่งคำตอบล่าช้ากว่าที่กำหนดจะมีผลต่อการพิจารณาคัดเลือก\n",
        "- เพื่ออำนวยความสะดวกในการทำแบบทดสอบ ใน Notebook นี้ได้เตรียม Code ไว้ให้บางส่วน ทั้งนี้ผู้สมัครสามารถติดตั้ง และ import library อื่นๆเพิ่มเติมได้ตามที่ต้องการ\n",
        "\n",
        "\n",
        "## หลักเกณฑ์การให้คะแนน\n",
        "- ความถูกต้องของ code และผลลัพธ์ที่ได้ (80%)\n",
        "- ความมีระเบียบและความเข้าใจง่ายของ code (20%)"
      ]
    },
    {
      "cell_type": "markdown",
      "metadata": {
        "id": "b8TTl2kyUUkp",
        "colab_type": "text"
      },
      "source": [
        "## ติดตั้ง และ import libraries"
      ]
    },
    {
      "cell_type": "code",
      "metadata": {
        "id": "pCMhO6MWSvF5",
        "colab_type": "code",
        "colab": {}
      },
      "source": [
        "#run cell นี้เพื่อติดตั้ง library ที่เกี่ยวข้อง\n",
        "!pip install rasterio geopandas rio-toa rio-l8qa\n"
      ],
      "execution_count": null,
      "outputs": []
    },
    {
      "cell_type": "code",
      "metadata": {
        "id": "x5nkOsNkFSc8",
        "colab_type": "code",
        "colab": {}
      },
      "source": [
        "\n",
        "import pandas as pd\n",
        "import numpy as np\n",
        "import itertools\n",
        "import os\n",
        "import shutil\n",
        "from tqdm.notebook import tqdm\n",
        "import datetime\n",
        "import matplotlib.pyplot as plt\n",
        "from glob import glob\n",
        "\n",
        "import geopandas as gpd\n",
        "import gdal\n",
        "from pyproj import CRS\n",
        "import rasterio\n",
        "from rasterio import plot\n",
        "from rasterio.transform import from_origin\n",
        "from rasterio.warp import reproject, Resampling\n",
        "from rasterio.mask import mask\n",
        "from shapely.geometry import Polygon, mapping\n",
        "from rio_toa import reflectance\n",
        "from l8qa.qa import write_cloud_mask\n",
        "\n",
        "%matplotlib inline"
      ],
      "execution_count": null,
      "outputs": []
    },
    {
      "cell_type": "markdown",
      "metadata": {
        "id": "ky4CpTwrGxs0",
        "colab_type": "text"
      },
      "source": [
        "## ข้อที่ 1\n",
        "- ทำการ Download ภาพถ่ายดาวเทียม Landsat-8 L1C สำหรับ path/row 127049 ระหว่างวันที่ 1/Jul/2020 ถึงวันที่ 31/Jul/2020 สำหรับ band 4, 5 และ BQA โดยจัดเก็บไว้ที่ /tmp/exam/q1 พร้อมทั้ง ใช้คำสั่ง plt.imshow เพื่อแสดงภาพแต่ละ band ที่ download มา ทั้งนี้ผู้สมัครสามารถเลือกใช้เครื่องมือหรือแหล่งต้นทางสำหรับการ Download ภาพได้อย่างอิสระ (10 คะแนน) \n"
      ]
    },
    {
      "cell_type": "code",
      "metadata": {
        "id": "UjYUrHslSEnr",
        "colab_type": "code",
        "colab": {}
      },
      "source": [
        "#Run cell นี้เพื่อเตรียมข้อมูล\n",
        "os.makedirs('/tmp/exam/q1', exist_ok=True)"
      ],
      "execution_count": null,
      "outputs": []
    },
    {
      "cell_type": "code",
      "metadata": {
        "id": "-HPQN957FBKW",
        "colab_type": "code",
        "colab": {}
      },
      "source": [
        "#เขียน Code ที่นี่"
      ],
      "execution_count": null,
      "outputs": []
    },
    {
      "cell_type": "markdown",
      "metadata": {
        "id": "yTkpbw4jFoz2",
        "colab_type": "text"
      },
      "source": [
        "## ข้อที่ 2 \n",
        "- ทำการ Download ภาพถ่ายดาวเทียม Sentinel-2 (A และ B) L2A สำหรับ grid index **48QUD** สำหรับ band 4 และ 8 ระหว่างวันที่ 1/Jul/2020 ถึงวันที่ 15/Jul/2020 โดยจัดเก็บไว้ที่ /tmp/exam/q2 พร้อมใช้คำสั่ง plt.imshow แสดงผลภาพที่ download มา ทั้งนี้ผู้สมัครสามารถเลือกใช้เครื่องมือหรือแหล่งต้นทางสำหรับการ Download ภาพได้อย่างอิสระ (10 คะแนน)"
      ]
    },
    {
      "cell_type": "code",
      "metadata": {
        "id": "6B9w6fYVSzb7",
        "colab_type": "code",
        "colab": {}
      },
      "source": [
        "#Run cell นี้เพื่อเตรียมข้อมูล\n",
        "os.makedirs('/tmp/exam/q2', exist_ok=True)"
      ],
      "execution_count": null,
      "outputs": []
    },
    {
      "cell_type": "code",
      "metadata": {
        "id": "XY0bPVIZFFdJ",
        "colab_type": "code",
        "colab": {}
      },
      "source": [
        "#เขียน Code ที่นี่\n"
      ],
      "execution_count": null,
      "outputs": []
    },
    {
      "cell_type": "markdown",
      "metadata": {
        "id": "pApWuiVATAXf",
        "colab_type": "text"
      },
      "source": [
        "## ข้อที่ 3\n",
        "### ทำการคำนวณค่าสัญญาณ TOA สำหรับภาพถ่ายดาวเทียม Landsat-8 ที่เตรียมไว้ให้ ใน /tmp/exam/q3/DN และบันทึกผลลัพธ์ที่ได้ใน /tmp/exam/q3/TOA ในรูปแบบไฟล์ GeoTIFF โดยให้ความละเอียดของภาพ CRS และ GeoTransform เช่นเดิม (10 คะแนน) \n",
        "กำหนดให้\n",
        "- rescale factor = 1\n",
        "- data type = float32\n",
        "- nodata = 0\n",
        "- compress = deflate"
      ]
    },
    {
      "cell_type": "code",
      "metadata": {
        "id": "69DihTh2S_qh",
        "colab_type": "code",
        "colab": {}
      },
      "source": [
        "#Run cell นี้เพื่อเตรียมข้อมูล\n",
        "os.makedirs('/tmp/exam/q3/DN', exist_ok=True)\n",
        "os.makedirs('/tmp/exam/q3/TOA', exist_ok=True)\n",
        "\n",
        "!wget -O /tmp/exam/q3/DN/mtl.txt https://s3-us-west-2.amazonaws.com/landsat-pds/c1/L8/127/049/LC08_L1TP_127049_20130422_20180524_01_T1/LC08_L1TP_127049_20130422_20180524_01_T1_MTL.txt\n",
        "!wget -O /tmp/exam/q3/DN/b4.TIF https://s3-us-west-2.amazonaws.com/landsat-pds/c1/L8/127/049/LC08_L1TP_127049_20130422_20180524_01_T1/LC08_L1TP_127049_20130422_20180524_01_T1_B4.TIF"
      ],
      "execution_count": null,
      "outputs": []
    },
    {
      "cell_type": "code",
      "metadata": {
        "id": "60HMm32lUhqQ",
        "colab_type": "code",
        "colab": {}
      },
      "source": [
        "#เขียน Code ที่นี่"
      ],
      "execution_count": null,
      "outputs": []
    },
    {
      "cell_type": "markdown",
      "metadata": {
        "id": "uwhNq6e7GD15",
        "colab_type": "text"
      },
      "source": [
        "## ข้อที่ 4\n",
        "### คำนวณดัชนี NDVI จากภาพถ่ายดาวเทียม Landsat-8 ที่เตรียมไว้ให้ โดยให้ความละเอียด, GeoTransform และ CRS คงเดิม และให้บันทึกภาพผลลัพธ์ไว้ที่ /tmp/exam/q2/ พร้อมใช้คำสั่ง imshow และ print geotransform และ crs ภาพผลลัพธ์  (10 คะแนน)"
      ]
    },
    {
      "cell_type": "code",
      "metadata": {
        "id": "QzmIgfdqb68h",
        "colab_type": "code",
        "colab": {}
      },
      "source": [
        "#Run cell นี้เพื่อเตรียมข้อมูล\n",
        "os.makedirs('/tmp/exam/q4/TOA', exist_ok=True)\n",
        "os.makedirs('/tmp/exam/q4/NDVI', exist_ok=True)\n",
        "\n",
        "!wget -O /tmp/exam/q4/TOA/Q4_B4_TOA.TIF https://storage.googleapis.com/for-exam/Q4_B4_TOA.TIF\n",
        "!wget -O /tmp/exam/q4/TOA/Q4_B5_TOA.TIF https://storage.googleapis.com/for-exam/Q4_B5_TOA.TIF"
      ],
      "execution_count": null,
      "outputs": []
    },
    {
      "cell_type": "code",
      "metadata": {
        "id": "ynv4UpUddDNP",
        "colab_type": "code",
        "colab": {}
      },
      "source": [
        "#เขียน code ที่นี่"
      ],
      "execution_count": null,
      "outputs": []
    },
    {
      "cell_type": "markdown",
      "metadata": {
        "id": "obmgtLWNGaWy",
        "colab_type": "text"
      },
      "source": [
        "## ข้อที่ 5 : ทำการ reproject ภาพถ่ายดาวเทียมที่เตรียมไว้ใน /tmp/exam/q5/32648 จาก epsg:32648 ให้เป็น epsg:4326 โดยให้คงความละเอียดไว้เช่นเดิม และบันทึกภาพผลลัพธ์ไว้ที่ /tmp/exam/q5/4326 และ ใช้คำสั่ง plt.imshow แสดงภาพผลลัพธ์ ควบคู่กับการ print ความละเอียด GeoTransform และ CRS ของภาพผลลัพธ์ (10 คะแนน)"
      ]
    },
    {
      "cell_type": "code",
      "metadata": {
        "id": "-dftLfePfmFu",
        "colab_type": "code",
        "colab": {}
      },
      "source": [
        "#Run cell นี้เพื่อเตรียมข้อมูล\n",
        "os.makedirs('/tmp/exam/q5/32648', exist_ok=True)\n",
        "os.makedirs('/tmp/exam/q5/4326', exist_ok=True)\n",
        "!wget -O /tmp/exam/q5/32648/Q5_LS8_NDVI.TIF https://storage.googleapis.com/for-exam/Q5_LS8_NDVI.TIF\n"
      ],
      "execution_count": null,
      "outputs": []
    },
    {
      "cell_type": "code",
      "metadata": {
        "id": "CQU16plGqA3S",
        "colab_type": "code",
        "colab": {}
      },
      "source": [
        "#เขียน code ที่นี่"
      ],
      "execution_count": null,
      "outputs": []
    },
    {
      "cell_type": "markdown",
      "metadata": {
        "id": "BQckisb_N313",
        "colab_type": "text"
      },
      "source": [
        "## ข้อที่ 6\n",
        "### ทำการปรับความละเอียดภาพ NDVI ที่เตรียมไว้ใน /tmp/exam/q6/30m จาก ความละเอียด 30m เป็น 50m โดยให้ crs คงเดิม และบันทึกภาพผลลัพธ์ไว้ที่ /tmp/exam/q6/50m และ imshow ภาพผลลัพธ์ ควบคู่กับการ print GeoTransform, ความละเอียด และ crs ของภาพผลลัพธ์ (10 คะแนน)"
      ]
    },
    {
      "cell_type": "code",
      "metadata": {
        "id": "BAGYCf5dhsDL",
        "colab_type": "code",
        "colab": {}
      },
      "source": [
        "#Run cell นี้เพื่อเตรียมข้อมูล\n",
        "os.makedirs('/tmp/exam/q6/30m', exist_ok=True)\n",
        "os.makedirs('/tmp/exam/q6/50m', exist_ok=True)\n",
        "!wget -O /tmp/exam/q6/30m/Q6_LS8_NDVI.TIF https://storage.googleapis.com/for-exam/Q6_LS8_NDVI.TIF\n"
      ],
      "execution_count": null,
      "outputs": []
    },
    {
      "cell_type": "code",
      "metadata": {
        "id": "VF_mXPELjNjD",
        "colab_type": "code",
        "colab": {}
      },
      "source": [
        "# เขียน Code ที่นี่"
      ],
      "execution_count": null,
      "outputs": []
    },
    {
      "cell_type": "markdown",
      "metadata": {
        "id": "rQpXCAOyRFF6",
        "colab_type": "text"
      },
      "source": [
        "## ข้อที่ 7 : ทำการเปลี่ยน crs ของ shapefile จังหวัดที่เตรียมไว้ให้ใน /tmp/exam/q7/4326 จาก EPSG:4326 เป็น EPSG:32648 และ save ผลลัพธ์ไว้ที่ /tmp/exam/q7/32648 และให้ print geometry ของจังหวัด ร้อยเอ็ด (10 คะแนน)"
      ]
    },
    {
      "cell_type": "code",
      "metadata": {
        "id": "6gOjSNkIjNHZ",
        "colab_type": "code",
        "colab": {}
      },
      "source": [
        "#Run cell นี้เพื่อเตรียมข้อมูล\n",
        "os.makedirs('/tmp/exam/q7/4326', exist_ok=True)\n",
        "os.makedirs('/tmp/exam/q7/32648', exist_ok=True)\n",
        "!wget -O /tmp/exam/q7/4326/Q7_province_4326.zip https://storage.googleapis.com/for-exam/Q7_province_4326.zip\n",
        "!unzip /tmp/exam/q7/4326/Q7_province_4326.zip -d /tmp/exam/q7/4326/"
      ],
      "execution_count": null,
      "outputs": []
    },
    {
      "cell_type": "code",
      "metadata": {
        "id": "IT3rzllEjjvi",
        "colab_type": "code",
        "colab": {}
      },
      "source": [
        "# เขียน Code ที่นี่"
      ],
      "execution_count": null,
      "outputs": []
    },
    {
      "cell_type": "markdown",
      "metadata": {
        "id": "zjL9MakvGagr",
        "colab_type": "text"
      },
      "source": [
        "## ข้อที่ 8\n",
        "### ทำการสร้าง provincial temporal dataframe  โดยทำการ extract ค่าสัญญาณจากภาพที่เตรียมไว้ใน /tmp/exam/q8/raster โดยใช้  shapefile จังหวัดที่เตรียมไว้ให้ /tmp/exam/q8/shapefile เมื่อทำการ extract ค่าจาก pixel แล้ว ให้คำนวณค่าเฉลี่ยให้เป็นระดับจังหวัด  และบันทึก dataframe ในรูปแบบ parquet ไว้ที่ /tmp/exam/q8/dataframe (30 คะแนน)\n",
        "- การ extract ให้ใช้ option all touched = True\n",
        "- แต่ละ column เก็บค่าสัญญาณในแต่ละช่วงเวลา \n",
        "- แต่ละ row เก็บค่าสัญญาณเฉลี่ยในแต่ละจังหวัด"
      ]
    },
    {
      "cell_type": "code",
      "metadata": {
        "id": "RtdX6oOUnCUL",
        "colab_type": "code",
        "colab": {}
      },
      "source": [
        "#Run cell นี้เพื่อเตรียมข้อมูล\n",
        "os.makedirs('/tmp/exam/q8/raster', exist_ok=True)\n",
        "os.makedirs('/tmp/exam/q8/shapefile', exist_ok=True)\n",
        "os.makedirs('/tmp/exam/q8/dataframe', exist_ok=True)\n",
        "!wget -O /tmp/exam/q8/shapefile/Q8_province_4326.zip https://storage.googleapis.com/for-exam/Q8_province_4326.zip\n",
        "!wget -O /tmp/exam/q8/raster/Q8_20160516.tif https://storage.googleapis.com/for-exam/Q8_20160516.tif\n",
        "!wget -O /tmp/exam/q8/raster/Q8_20160601.tif https://storage.googleapis.com/for-exam/Q8_20160601.tif\n",
        "!wget -O /tmp/exam/q8/raster/Q8_20160617.tif https://storage.googleapis.com/for-exam/Q8_20160617.tif\n",
        "!unzip /tmp/exam/q8/shapefile/Q8_province_4326.zip -d /tmp/exam/q8/shapefile/"
      ],
      "execution_count": null,
      "outputs": []
    },
    {
      "cell_type": "code",
      "metadata": {
        "id": "vcrUezgZnCd5",
        "colab_type": "code",
        "colab": {}
      },
      "source": [
        "#เขียน Code ที่นี่"
      ],
      "execution_count": null,
      "outputs": []
    }
  ]
}